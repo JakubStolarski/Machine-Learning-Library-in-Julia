{
 "cells": [
  {
   "cell_type": "markdown",
   "id": "75dac9d2",
   "metadata": {},
   "source": [
    "## Network building blocks"
   ]
  },
  {
   "cell_type": "code",
   "execution_count": 1,
   "id": "a7860839",
   "metadata": {},
   "outputs": [
    {
     "ename": "LoadError",
     "evalue": "syntax: incomplete: \"function\" at In[1]:17 requires end",
     "output_type": "error",
     "traceback": [
      "syntax: incomplete: \"function\" at In[1]:17 requires end",
      "",
      "Stacktrace:",
      " [1] top-level scope",
      "   @ In[1]:17"
     ]
    }
   ],
   "source": [
    "# Layers\n",
    "struct DenseLayer\n",
    "    weights::Matrix\n",
    "    activation::Function\n",
    "end\n",
    "\n",
    "struct ConvLayer\n",
    "    weights::Matrix\n",
    "    activation::Function\n",
    "end\n",
    "\n",
    "function conv_layer(in_channels::Int, out_channels::Int, kernel_size::Int, activation::Function)\n",
    "    weights = randn(Float32, kernel_size, kernel_size, in_channels, out_channels)\n",
    "    return ConvLayer(weights, activation)\n",
    "end\n",
    "\n",
    "function dense_layer(in_channels::Int, out_channels::Int, activation::Function) \n",
    "    weights = randn(Float32, kernel_size, kernel_size, in_channels, out_channels)\n",
    "    return DenseLayer(weights, activation)\n"
   ]
  },
  {
   "cell_type": "code",
   "execution_count": 2,
   "id": "97bec610",
   "metadata": {},
   "outputs": [
    {
     "data": {
      "text/plain": [
       "SGD! (generic function with 1 method)"
      ]
     },
     "execution_count": 2,
     "metadata": {},
     "output_type": "execute_result"
    }
   ],
   "source": [
    "## Functions\n",
    "\n",
    "# Activation functions\n",
    "function relu(x::Matrix)\n",
    "    return max.(0, x)\n",
    "end\n",
    "\n",
    "\n",
    "function pooling(x::Matrix, kernel::Int, stride::Int, type::String=\"max\")\n",
    "    a = size(x)\n",
    "    output_shape = (size(x,1) - kernel) / stride + 1\n",
    "    output_shape = trunc(Int, output_shape)\n",
    "    output = zeros((output_shape, output_shape))\n",
    "\n",
    "    for i in 1:output_shape\n",
    "        for j in 1:output_shape\n",
    "            if type == \"max\"\n",
    "                output[i, j] = maximum(x[i:i+stride,j:j+stride])\n",
    "            elseif type == \"mean\"\n",
    "                output[i, j] = mean(x[i:i+stride,j:j+stride])\n",
    "            end\n",
    "        end\n",
    "    end\n",
    "    \n",
    "    return output\n",
    "end\n",
    "\n",
    "        \n",
    "function softmax(x::Matrix) \n",
    "    exp_x = exp.(x)\n",
    "    return exp_x ./ sum(exp_x)\n",
    "end\n",
    "        \n",
    "        \n",
    "function int_to_array(x::Int, length::Int)\n",
    "    output = zeros(length)\n",
    "    output[x] = 1\n",
    "    return output\n",
    "end\n",
    "        \n",
    "# Loss function        \n",
    "function cross_entropy_loss(pred::Matrix, dest::Int)\n",
    "    num_of_classes = size(pred,1)\n",
    "    label = int_to_array(d, num_of_classes)\n",
    "    loss = -sum(dest .* log.(pred))/N\n",
    "    return loss\n",
    "end\n",
    "        \n",
    "# Optimizer  \n",
    "function SGD!(w::Matrix, lr::Number, g::Matrix)\n",
    "    w .-= lr .* dw\n",
    "end"
   ]
  },
  {
   "cell_type": "code",
   "execution_count": 5,
   "id": "5b222310",
   "metadata": {},
   "outputs": [
    {
     "data": {
      "text/plain": [
       "net (generic function with 1 method)"
      ]
     },
     "execution_count": 5,
     "metadata": {},
     "output_type": "execute_result"
    }
   ],
   "source": [
    "# Network\n",
    "struct ConvNet\n",
    "    conv1::ConvLayer\n",
    "    conv2::ConvLayer\n",
    "    fc1::DenseLayer\n",
    "    fc2::DenseLayer\n",
    "    fc3::DenseLayer\n",
    "end\n",
    "function net()\n",
    "    conv1 = conv_layer(1,6,5,relu)\n",
    "    conv2 = conv_layer(6,16,5,relu)\n",
    "    fc1 = dense_layer(16*5*5, 120,relu)\n",
    "    fc2 = dense_layer(120, 84,relu)\n",
    "    fc3 = dense_layer(84, 10,relu)\n",
    "    return ConvNet(conv1, conv2, fc1, fc2, fc3)\n",
    "end"
   ]
  },
  {
   "cell_type": "code",
   "execution_count": 6,
   "id": "1d3f6739",
   "metadata": {},
   "outputs": [
    {
     "data": {
      "text/plain": [
       "net (generic function with 1 method)"
      ]
     },
     "execution_count": 6,
     "metadata": {},
     "output_type": "execute_result"
    }
   ],
   "source": [
    "x = [1.0 2.0 3.0 -4.0;\n",
    "     5.0 -6.0 7.0 8.0;\n",
    "     9.0 -10.0 -11.0 12.0;\n",
    "     -13.0 14.0 15.0 16.0]\n",
    "kernel = 2\n",
    "stride = 1\n",
    "out = net"
   ]
  },
  {
   "cell_type": "code",
   "execution_count": null,
   "id": "b930ec99",
   "metadata": {},
   "outputs": [],
   "source": []
  }
 ],
 "metadata": {
  "kernelspec": {
   "display_name": "Julia 1.8.5",
   "language": "julia",
   "name": "julia-1.8"
  },
  "language_info": {
   "file_extension": ".jl",
   "mimetype": "application/julia",
   "name": "julia",
   "version": "1.8.5"
  },
  "varInspector": {
   "cols": {
    "lenName": 16,
    "lenType": 16,
    "lenVar": 40
   },
   "kernels_config": {
    "python": {
     "delete_cmd_postfix": "",
     "delete_cmd_prefix": "del ",
     "library": "var_list.py",
     "varRefreshCmd": "print(var_dic_list())"
    },
    "r": {
     "delete_cmd_postfix": ") ",
     "delete_cmd_prefix": "rm(",
     "library": "var_list.r",
     "varRefreshCmd": "cat(var_dic_list()) "
    }
   },
   "types_to_exclude": [
    "module",
    "function",
    "builtin_function_or_method",
    "instance",
    "_Feature"
   ],
   "window_display": false
  }
 },
 "nbformat": 4,
 "nbformat_minor": 5
}
